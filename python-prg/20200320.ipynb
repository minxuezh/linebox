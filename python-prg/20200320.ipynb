{
 "cells": [
  {
   "cell_type": "code",
   "execution_count": 2,
   "metadata": {
    "scrolled": true
   },
   "outputs": [
    {
     "name": "stdout",
     "output_type": "stream",
     "text": [
      "Please input a date(mm-dd-yyyy):03-19-2020\n"
     ]
    }
   ],
   "source": [
    "# input \"03-19-2020\"\n",
    "# output \"03-19-2020.csv\"\n",
    "#import requests\n",
    "import pandas as pd\n",
    "\n",
    "def get_covid_daily_data(input_date):\n",
    "    csv_name = input_date + \".csv\"\n",
    "    github_url = \"https://raw.githubusercontent.com/CSSEGISandData/COVID-19/master/csse_covid_19_data/csse_covid_19_daily_reports/{}\".format(csv_name)\n",
    "    #response = requests.get(github_url)\n",
    "    df = pd.read_csv(github_url)\n",
    "    # df.head()\n",
    "    # df.tail()\n",
    "    df.to_csv(csv_name, index=False)\n",
    "\n",
    "user_input = input(\"Please input a date(mm-dd-yyyy):\")\n",
    "get_covid_daily_data(user_input)"
   ]
  },
  {
   "cell_type": "code",
   "execution_count": 3,
   "metadata": {},
   "outputs": [
    {
     "name": "stdout",
     "output_type": "stream",
     "text": [
      "Downloading 01-22-2020.csv...\n",
      "Downloading 01-23-2020.csv...\n",
      "Downloading 01-24-2020.csv...\n",
      "Downloading 01-25-2020.csv...\n",
      "Downloading 01-26-2020.csv...\n",
      "Downloading 01-27-2020.csv...\n",
      "Downloading 01-28-2020.csv...\n",
      "Downloading 01-29-2020.csv...\n",
      "Downloading 01-30-2020.csv...\n",
      "Downloading 01-31-2020.csv...\n",
      "Downloading 02-01-2020.csv...\n",
      "Downloading 02-02-2020.csv...\n",
      "Downloading 02-03-2020.csv...\n",
      "Downloading 02-04-2020.csv...\n",
      "Downloading 02-05-2020.csv...\n",
      "Downloading 02-06-2020.csv...\n",
      "Downloading 02-07-2020.csv...\n",
      "Downloading 02-08-2020.csv...\n",
      "Downloading 02-09-2020.csv...\n",
      "Downloading 02-10-2020.csv...\n",
      "Downloading 02-11-2020.csv...\n",
      "Downloading 02-12-2020.csv...\n",
      "Downloading 02-13-2020.csv...\n",
      "Downloading 02-14-2020.csv...\n",
      "Downloading 02-15-2020.csv...\n",
      "Downloading 02-16-2020.csv...\n",
      "Downloading 02-17-2020.csv...\n",
      "Downloading 02-18-2020.csv...\n",
      "Downloading 02-19-2020.csv...\n",
      "Downloading 02-20-2020.csv...\n",
      "Downloading 02-21-2020.csv...\n",
      "Downloading 02-22-2020.csv...\n",
      "Downloading 02-23-2020.csv...\n",
      "Downloading 02-24-2020.csv...\n",
      "Downloading 02-25-2020.csv...\n",
      "Downloading 02-26-2020.csv...\n",
      "Downloading 02-27-2020.csv...\n",
      "Downloading 02-28-2020.csv...\n",
      "Downloading 02-29-2020.csv...\n",
      "Downloading 03-01-2020.csv...\n",
      "Downloading 03-02-2020.csv...\n",
      "Downloading 03-03-2020.csv...\n",
      "Downloading 03-04-2020.csv...\n",
      "Downloading 03-05-2020.csv...\n",
      "Downloading 03-06-2020.csv...\n",
      "Downloading 03-07-2020.csv...\n",
      "Downloading 03-08-2020.csv...\n",
      "Downloading 03-09-2020.csv...\n",
      "Downloading 03-10-2020.csv...\n",
      "Downloading 03-11-2020.csv...\n",
      "Downloading 03-12-2020.csv...\n",
      "Downloading 03-13-2020.csv...\n",
      "Downloading 03-14-2020.csv...\n",
      "Downloading 03-15-2020.csv...\n",
      "Downloading 03-16-2020.csv...\n",
      "Downloading 03-17-2020.csv...\n",
      "Downloading 03-18-2020.csv...\n",
      "Downloading 03-19-2020.csv...\n"
     ]
    }
   ],
   "source": [
    "from datetime import date, timedelta\n",
    "\n",
    "start_date = date(2020, 1, 22)\n",
    "#time_delta = timedelta(57)\n",
    "#end_date = start_date + time_delta\n",
    "date_period = [start_date + timedelta(i) for i in range(58)]\n",
    "data_dates = [i.strftime('%m-%d-%Y') for i in date_period]\n",
    "for dt in data_dates:\n",
    "    print(\"Downloading {}.csv...\".format(dt))\n",
    "    get_covid_daily_data(dt)"
   ]
  },
  {
   "cell_type": "code",
   "execution_count": null,
   "metadata": {},
   "outputs": [],
   "source": []
  }
 ],
 "metadata": {
  "kernelspec": {
   "display_name": "Python 3",
   "language": "python",
   "name": "python3"
  },
  "language_info": {
   "codemirror_mode": {
    "name": "ipython",
    "version": 3
   },
   "file_extension": ".py",
   "mimetype": "text/x-python",
   "name": "python",
   "nbconvert_exporter": "python",
   "pygments_lexer": "ipython3",
   "version": "3.7.4"
  }
 },
 "nbformat": 4,
 "nbformat_minor": 2
}
